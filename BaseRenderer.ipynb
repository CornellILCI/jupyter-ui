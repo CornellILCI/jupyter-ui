{
 "cells": [
  {
   "cell_type": "code",
   "execution_count": 3,
   "id": "bdb96358",
   "metadata": {},
   "outputs": [],
   "source": [
    "import ipywidgets\n",
    "from ipywidgets import jslink, jsdlink\n",
    "import ipyvuetify as v\n",
    "from threading import Timer\n",
    "from traitlets import (Any, Unicode, List)\n",
    "\n",
    "# helper to get tokens from BMS\n",
    "DEBUG = False\n",
    "\n",
    "\n",
    "_RENDERER = []\n",
    "\n",
    "def addToRenderer(item):\n",
    "    _RENDERER.append(item)\n",
    "        \n",
    "def _render():\n",
    "    return v.Container(children=_RENDERER)\n",
    "\n",
    "\n",
    "def _loadBaseDependenciesForPage(pageName):\n",
    "    #right now all pages will load the login module. this might not be the case in the future\n",
    "    %run LoginModule.ipynb\n",
    "    \n",
    "def _loadPage(pageName):\n",
    "    #we can build individual page routing here in the future\n",
    "    return\n",
    "\n",
    "def displayPage(pageName):\n",
    "    _loadBaseDependenciesForPage(pageName)\n",
    "    _loadPage(pageName)\n",
    "    return _render()\n",
    "    \n",
    "    \n",
    "\n"
   ]
  },
  {
   "cell_type": "code",
   "execution_count": 4,
   "id": "6019098c",
   "metadata": {},
   "outputs": [
    {
     "data": {
      "application/vnd.jupyter.widget-view+json": {
       "model_id": "24d79fd808a94ef387ed5cfb0abfad23",
       "version_major": 2,
       "version_minor": 0
      },
      "text/plain": [
       "Container(children=[CardTitle(children=['Data Sources Selector'], class_='indigo white--text text-h5'), Layout…"
      ]
     },
     "metadata": {},
     "output_type": "display_data"
    }
   ],
   "source": []
  },
  {
   "cell_type": "code",
   "execution_count": null,
   "id": "1d838c67",
   "metadata": {},
   "outputs": [],
   "source": []
  }
 ],
 "metadata": {
  "kernelspec": {
   "display_name": "Python 3 (ipykernel)",
   "language": "python",
   "name": "python3"
  },
  "language_info": {
   "codemirror_mode": {
    "name": "ipython",
    "version": 3
   },
   "file_extension": ".py",
   "mimetype": "text/x-python",
   "name": "python",
   "nbconvert_exporter": "python",
   "pygments_lexer": "ipython3",
   "version": "3.9.6"
  }
 },
 "nbformat": 4,
 "nbformat_minor": 5
}
